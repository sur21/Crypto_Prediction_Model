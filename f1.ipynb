{
 "cells": [
  {
   "cell_type": "code",
   "execution_count": 5,
   "metadata": {},
   "outputs": [
    {
     "name": "stdout",
     "output_type": "stream",
     "text": [
      "             timestamp       open       high        low      close      volume\n",
      "0  2025-01-23 01:00:00  103307.51  103653.84  102588.15  102931.94  1272.26098\n",
      "1  2025-01-23 02:00:00  102931.94  102983.39  102100.00  102655.34  1943.13807\n",
      "2  2025-01-23 03:00:00  102655.34  103007.75  102197.34  102461.25   785.20592\n",
      "3  2025-01-23 04:00:00  102461.24  102493.15  101575.50  102075.22  1629.12288\n",
      "4  2025-01-23 05:00:00  102075.21  102639.36  102000.00  102532.52   890.29202\n"
     ]
    }
   ],
   "source": [
    "import pandas as pd\n",
    "\n",
    "df = pd.read_csv(\"crypto_data.csv\")\n",
    "print(df.head())\n"
   ]
  },
  {
   "cell_type": "code",
   "execution_count": 7,
   "metadata": {},
   "outputs": [
    {
     "name": "stdout",
     "output_type": "stream",
     "text": [
      "             timestamp       open       high        low      close      volume\n",
      "0  2025-01-23 01:00:00  103307.51  103653.84  102588.15  102931.94  1272.26098\n",
      "1  2025-01-23 02:00:00  102931.94  102983.39  102100.00  102655.34  1943.13807\n",
      "2  2025-01-23 03:00:00  102655.34  103007.75  102197.34  102461.25   785.20592\n",
      "3  2025-01-23 04:00:00  102461.24  102493.15  101575.50  102075.22  1629.12288\n",
      "4  2025-01-23 05:00:00  102075.21  102639.36  102000.00  102532.52   890.29202\n",
      "<class 'pandas.core.frame.DataFrame'>\n",
      "RangeIndex: 1000 entries, 0 to 999\n",
      "Data columns (total 6 columns):\n",
      " #   Column     Non-Null Count  Dtype  \n",
      "---  ------     --------------  -----  \n",
      " 0   timestamp  1000 non-null   object \n",
      " 1   open       1000 non-null   float64\n",
      " 2   high       1000 non-null   float64\n",
      " 3   low        1000 non-null   float64\n",
      " 4   close      1000 non-null   float64\n",
      " 5   volume     1000 non-null   float64\n",
      "dtypes: float64(5), object(1)\n",
      "memory usage: 47.0+ KB\n",
      "None\n"
     ]
    }
   ],
   "source": [
    "import pandas as pd\n",
    "\n",
    "# Kaggle se downloaded CSV ka naam yahan likho\n",
    "df = pd.read_csv(\"crypto_data.csv\")\n",
    "\n",
    "# Pehle 5 rows dekhna\n",
    "print(df.head())\n",
    "\n",
    "# Dataset ka structure check karna\n",
    "print(df.info())\n"
   ]
  },
  {
   "cell_type": "code",
   "execution_count": 8,
   "metadata": {},
   "outputs": [
    {
     "name": "stdout",
     "output_type": "stream",
     "text": [
      "timestamp    0\n",
      "open         0\n",
      "high         0\n",
      "low          0\n",
      "close        0\n",
      "volume       0\n",
      "dtype: int64\n"
     ]
    },
    {
     "name": "stderr",
     "output_type": "stream",
     "text": [
      "C:\\Users\\surya\\AppData\\Local\\Temp\\ipykernel_14584\\571926665.py:7: FutureWarning: DataFrame.fillna with 'method' is deprecated and will raise in a future version. Use obj.ffill() or obj.bfill() instead.\n",
      "  df.fillna(method='ffill', inplace=True)\n"
     ]
    }
   ],
   "source": [
    "# Check missing values\n",
    "print(df.isnull().sum())\n",
    "\n",
    "# Missing values ko fill ya drop karna\n",
    "df = df.dropna()  # Agar missing zyada hai toh drop\n",
    "# Ya phir missing ko previous value se fill karna\n",
    "df.fillna(method='ffill', inplace=True)\n"
   ]
  },
  {
   "cell_type": "code",
   "execution_count": 9,
   "metadata": {},
   "outputs": [
    {
     "name": "stdout",
     "output_type": "stream",
     "text": [
      "                          open       high        low      close      volume\n",
      "timestamp                                                                  \n",
      "2025-01-23 01:00:00  103307.51  103653.84  102588.15  102931.94  1272.26098\n",
      "2025-01-23 02:00:00  102931.94  102983.39  102100.00  102655.34  1943.13807\n",
      "2025-01-23 03:00:00  102655.34  103007.75  102197.34  102461.25   785.20592\n",
      "2025-01-23 04:00:00  102461.24  102493.15  101575.50  102075.22  1629.12288\n",
      "2025-01-23 05:00:00  102075.21  102639.36  102000.00  102532.52   890.29202\n"
     ]
    }
   ],
   "source": [
    "# Date-time column ka naam check karo aur usko proper format me convert karo\n",
    "df['timestamp'] = pd.to_datetime(df['timestamp'])  \n",
    "df.set_index('timestamp', inplace=True)\n",
    "\n",
    "print(df.head())\n"
   ]
  },
  {
   "cell_type": "code",
   "execution_count": 10,
   "metadata": {},
   "outputs": [
    {
     "name": "stdout",
     "output_type": "stream",
     "text": [
      "                          open       high        low      close      volume  \\\n",
      "timestamp                                                                     \n",
      "2025-01-23 01:00:00  103307.51  103653.84  102588.15  102931.94  1272.26098   \n",
      "2025-01-23 02:00:00  102931.94  102983.39  102100.00  102655.34  1943.13807   \n",
      "2025-01-23 03:00:00  102655.34  103007.75  102197.34  102461.25   785.20592   \n",
      "2025-01-23 04:00:00  102461.24  102493.15  101575.50  102075.22  1629.12288   \n",
      "2025-01-23 05:00:00  102075.21  102639.36  102000.00  102532.52   890.29202   \n",
      "\n",
      "                     SMA_50  SMA_200  RSI  \n",
      "timestamp                                  \n",
      "2025-01-23 01:00:00     NaN      NaN  NaN  \n",
      "2025-01-23 02:00:00     NaN      NaN  NaN  \n",
      "2025-01-23 03:00:00     NaN      NaN  NaN  \n",
      "2025-01-23 04:00:00     NaN      NaN  NaN  \n",
      "2025-01-23 05:00:00     NaN      NaN  NaN  \n"
     ]
    }
   ],
   "source": [
    "# Moving Averages\n",
    "df[\"SMA_50\"] = df[\"close\"].rolling(window=50).mean()  # 50-day moving average\n",
    "df[\"SMA_200\"] = df[\"close\"].rolling(window=200).mean()  # 200-day moving average\n",
    "\n",
    "# Relative Strength Index (RSI)\n",
    "import numpy as np\n",
    "\n",
    "def compute_rsi(data, window=14):\n",
    "    delta = data.diff()\n",
    "    gain = (delta.where(delta > 0, 0)).rolling(window=window).mean()\n",
    "    loss = (-delta.where(delta < 0, 0)).rolling(window=window).mean()\n",
    "    rs = gain / loss\n",
    "    return 100 - (100 / (1 + rs))\n",
    "\n",
    "df[\"RSI\"] = compute_rsi(df[\"close\"])\n",
    "\n",
    "print(df.head())\n"
   ]
  },
  {
   "cell_type": "code",
   "execution_count": 3,
   "metadata": {},
   "outputs": [],
   "source": [
    "def SMA(data, window):\n",
    "    return data.rolling(window=window).mean()\n"
   ]
  },
  {
   "cell_type": "code",
   "execution_count": 4,
   "metadata": {},
   "outputs": [],
   "source": [
    "def EMA(data, window):\n",
    "    return data.ewm(span=window, adjust=False).mean()\n"
   ]
  },
  {
   "cell_type": "code",
   "execution_count": 5,
   "metadata": {},
   "outputs": [],
   "source": [
    "def RSI(data, window=14):\n",
    "    delta = data.diff(1)\n",
    "    gain = (delta.where(delta > 0, 0)).rolling(window=window).mean()\n",
    "    loss = (-delta.where(delta < 0, 0)).rolling(window=window).mean()\n",
    "    RS = gain / loss\n",
    "    return 100 - (100 / (1 + RS))\n"
   ]
  },
  {
   "cell_type": "code",
   "execution_count": 6,
   "metadata": {},
   "outputs": [],
   "source": [
    "def MACD(data, short_window=12, long_window=26, signal_window=9):\n",
    "    short_ema = EMA(data, short_window)\n",
    "    long_ema = EMA(data, long_window)\n",
    "    macd_line = short_ema - long_ema\n",
    "    signal_line = EMA(macd_line, signal_window)\n",
    "    return macd_line, signal_line\n"
   ]
  },
  {
   "cell_type": "code",
   "execution_count": 7,
   "metadata": {},
   "outputs": [],
   "source": [
    "def Bollinger_Bands(data, window=20, num_std=2):\n",
    "    SMA_ = SMA(data, window)\n",
    "    std_dev = data.rolling(window=window).std()\n",
    "    upper_band = SMA_ + (std_dev * num_std)\n",
    "    lower_band = SMA_ - (std_dev * num_std)\n",
    "    return upper_band, lower_band\n"
   ]
  },
  {
   "cell_type": "code",
   "execution_count": 19,
   "metadata": {},
   "outputs": [
    {
     "name": "stdout",
     "output_type": "stream",
     "text": [
      "               timestamp      open      high       low     close      volume  \\\n",
      "995  2025-03-05 12:00:00  89814.26  90933.82  89814.26  90355.97  2250.85661   \n",
      "996  2025-03-05 13:00:00  90355.97  90588.00  89103.52  89473.92  3234.22601   \n",
      "997  2025-03-05 14:00:00  89473.92  89839.01  88157.25  88519.93  3303.02094   \n",
      "998  2025-03-05 15:00:00  88519.94  89550.72  87926.06  88344.25  3436.16876   \n",
      "999  2025-03-05 16:00:00  88344.25  88431.18  87622.64  87982.00   855.11816   \n",
      "\n",
      "        sma_10        ema_10     rsi_14        macd  macd_signal  \\\n",
      "995  88234.024  88632.004774  73.662869  931.587819   564.229304   \n",
      "996  88497.076  88785.080270  66.255087  948.587520   641.100947   \n",
      "997  88657.475  88736.871130  61.917144  874.994493   687.879656   \n",
      "998  88777.302  88665.485470  55.354159  793.350332   708.973791   \n",
      "999  88826.490  88541.215384  53.827612  691.445644   705.468162   \n",
      "\n",
      "       upper_band    lower_band  \n",
      "995  90067.889649  85309.642351  \n",
      "996  90148.414799  85632.120201  \n",
      "997  90187.874731  85768.229269  \n",
      "998  90198.637542  85771.272458  \n",
      "999  90188.293164  85897.289836  \n"
     ]
    }
   ],
   "source": [
    "import pandas as pd\n",
    "\n",
    "# ✅ Load Dataset & Fix Column Names\n",
    "df = pd.read_csv(\"crypto_data.csv\")\n",
    "df.columns = df.columns.str.lower()  # Convert all column names to lowercase\n",
    "\n",
    "# ✅ Check if 'close' column exists\n",
    "if 'close' not in df.columns:\n",
    "    raise KeyError(\"Column 'close' not found in dataset! Check column names.\")\n",
    "\n",
    "# ✅ Define Indicator Functions\n",
    "def SMA(data, window):\n",
    "    return data.rolling(window=window).mean()\n",
    "\n",
    "def EMA(data, window):\n",
    "    return data.ewm(span=window, adjust=False).mean()\n",
    "\n",
    "def RSI(data, window=14):\n",
    "    delta = data.diff(1)\n",
    "    gain = (delta.where(delta > 0, 0)).rolling(window=window).mean()\n",
    "    loss = (-delta.where(delta < 0, 0)).rolling(window=window).mean()\n",
    "    RS = gain / loss\n",
    "    return 100 - (100 / (1 + RS))\n",
    "\n",
    "def MACD(data, short_window=12, long_window=26, signal_window=9):\n",
    "    short_ema = EMA(data, short_window)\n",
    "    long_ema = EMA(data, long_window)\n",
    "    macd_line = short_ema - long_ema\n",
    "    signal_line = EMA(macd_line, signal_window)\n",
    "    return macd_line, signal_line\n",
    "\n",
    "def Bollinger_Bands(data, window=20, num_std=2):\n",
    "    SMA_ = SMA(data, window)\n",
    "    std_dev = data.rolling(window=window).std()\n",
    "    upper_band = SMA_ + (std_dev * num_std)\n",
    "    lower_band = SMA_ - (std_dev * num_std)\n",
    "    return upper_band, lower_band\n",
    "\n",
    "# ✅ Apply Indicators\n",
    "df['sma_10'] = SMA(df['close'], 10)\n",
    "df['ema_10'] = EMA(df['close'], 10)\n",
    "df['rsi_14'] = RSI(df['close'])\n",
    "df['macd'], df['macd_signal'] = MACD(df['close'])\n",
    "df['upper_band'], df['lower_band'] = Bollinger_Bands(df['close'])\n",
    "\n",
    "# ✅ Print Last 5 Rows to Verify\n",
    "print(df.tail())\n",
    "\n",
    "# ✅ Save Processed Data (Optional)\n",
    "df.to_csv(\"crypto_data_with_indicators.csv\", index=False)\n",
    "\n"
   ]
  },
  {
   "cell_type": "code",
   "execution_count": 16,
   "metadata": {},
   "outputs": [
    {
     "name": "stdout",
     "output_type": "stream",
     "text": [
      "             timestamp       open       high        low      close      volume\n",
      "0  2025-01-23 01:00:00  103307.51  103653.84  102588.15  102931.94  1272.26098\n",
      "1  2025-01-23 02:00:00  102931.94  102983.39  102100.00  102655.34  1943.13807\n",
      "2  2025-01-23 03:00:00  102655.34  103007.75  102197.34  102461.25   785.20592\n",
      "3  2025-01-23 04:00:00  102461.24  102493.15  101575.50  102075.22  1629.12288\n",
      "4  2025-01-23 05:00:00  102075.21  102639.36  102000.00  102532.52   890.29202\n"
     ]
    }
   ],
   "source": [
    "print(df.head())"
   ]
  },
  {
   "cell_type": "code",
   "execution_count": 17,
   "metadata": {},
   "outputs": [
    {
     "name": "stdout",
     "output_type": "stream",
     "text": [
      "             timestamp       open       high        low      close  \\\n",
      "0  2025-01-23 01:00:00  103307.51  103653.84  102588.15  102931.94   \n",
      "1  2025-01-23 02:00:00  102931.94  102983.39  102100.00  102655.34   \n",
      "2  2025-01-23 03:00:00  102655.34  103007.75  102197.34  102461.25   \n",
      "3  2025-01-23 04:00:00  102461.24  102493.15  101575.50  102075.22   \n",
      "4  2025-01-23 05:00:00  102075.21  102639.36  102000.00  102532.52   \n",
      "\n",
      "       volume  sma_10         ema_10  rsi_14        macd  macd_signal  \\\n",
      "0  1272.26098     NaN  102931.940000     NaN    0.000000     0.000000   \n",
      "1  1943.13807     NaN  102881.649091     NaN  -22.064957    -4.412991   \n",
      "2   785.20592     NaN  102805.212893     NaN  -54.583827   -14.447159   \n",
      "3  1629.12288     NaN  102672.486912     NaN -110.233953   -33.604517   \n",
      "4   890.29202     NaN  102647.038383     NaN -116.098479   -50.103310   \n",
      "\n",
      "   upper_band  lower_band  \n",
      "0         NaN         NaN  \n",
      "1         NaN         NaN  \n",
      "2         NaN         NaN  \n",
      "3         NaN         NaN  \n",
      "4         NaN         NaN  \n"
     ]
    }
   ],
   "source": [
    "# ✅ Fix column name case sensitivity & apply indicators\n",
    "df.columns = df.columns.str.lower()  # Sab columns ko lowercase me convert karega\n",
    "\n",
    "# ✅ Apply indicators using lowercase column names\n",
    "df['sma_10'] = SMA(df['close'], 10)\n",
    "df['ema_10'] = EMA(df['close'], 10)\n",
    "df['rsi_14'] = RSI(df['close'])\n",
    "df['macd'], df['macd_signal'] = MACD(df['close'])\n",
    "df['upper_band'], df['lower_band'] = Bollinger_Bands(df['close'])\n",
    "\n",
    "print(df.head())  # ✅ Final check\n"
   ]
  },
  {
   "cell_type": "code",
   "execution_count": 10,
   "metadata": {},
   "outputs": [
    {
     "name": "stdout",
     "output_type": "stream",
     "text": [
      "Index(['timestamp', 'open', 'high', 'low', 'close', 'volume'], dtype='object')\n"
     ]
    }
   ],
   "source": [
    "import pandas as pd\n",
    "\n",
    "df = pd.read_csv(\"crypto_data.csv\")\n",
    "\n",
    "print(df.columns)  # Yeh sab available columns print karega\n"
   ]
  },
  {
   "cell_type": "code",
   "execution_count": 11,
   "metadata": {},
   "outputs": [],
   "source": [
    "df.rename(columns={'close': 'Close', 'Adj Close': 'Close'}, inplace=True)\n"
   ]
  },
  {
   "cell_type": "code",
   "execution_count": 12,
   "metadata": {},
   "outputs": [
    {
     "name": "stderr",
     "output_type": "stream",
     "text": [
      "C:\\Users\\surya\\AppData\\Local\\Temp\\ipykernel_4588\\235994087.py:1: FutureWarning: A value is trying to be set on a copy of a DataFrame or Series through chained assignment using an inplace method.\n",
      "The behavior will change in pandas 3.0. This inplace method will never work because the intermediate object on which we are setting values always behaves as a copy.\n",
      "\n",
      "For example, when doing 'df[col].method(value, inplace=True)', try using 'df.method({col: value}, inplace=True)' or df[col] = df[col].method(value) instead, to perform the operation inplace on the original object.\n",
      "\n",
      "\n",
      "  df['Close'].fillna(method='ffill', inplace=True)  # Pichla value use karega\n",
      "C:\\Users\\surya\\AppData\\Local\\Temp\\ipykernel_4588\\235994087.py:1: FutureWarning: Series.fillna with 'method' is deprecated and will raise in a future version. Use obj.ffill() or obj.bfill() instead.\n",
      "  df['Close'].fillna(method='ffill', inplace=True)  # Pichla value use karega\n"
     ]
    }
   ],
   "source": [
    "df['Close'].fillna(method='ffill', inplace=True)  # Pichla value use karega\n"
   ]
  },
  {
   "cell_type": "code",
   "execution_count": 13,
   "metadata": {},
   "outputs": [],
   "source": [
    "df['Close'] = pd.to_numeric(df['Close'], errors='coerce')\n"
   ]
  },
  {
   "cell_type": "code",
   "execution_count": 14,
   "metadata": {},
   "outputs": [],
   "source": [
    "df['SMA_10'] = SMA(df['Close'], 10)\n",
    "df['EMA_10'] = EMA(df['Close'], 10)\n",
    "df['RSI_14'] = RSI(df['Close'])\n",
    "df['MACD'], df['MACD_signal'] = MACD(df['Close'])\n",
    "df['Upper_Band'], df['Lower_Band'] = Bollinger_Bands(df['Close'])\n"
   ]
  },
  {
   "cell_type": "code",
   "execution_count": 20,
   "metadata": {},
   "outputs": [],
   "source": [
    "df.dropna(inplace=True)  # Missing values hata do\n"
   ]
  },
  {
   "cell_type": "code",
   "execution_count": 21,
   "metadata": {},
   "outputs": [],
   "source": [
    "import numpy as np\n",
    "\n",
    "# ✅ Define features and target variable\n",
    "features = ['sma_10', 'ema_10', 'rsi_14', 'macd', 'macd_signal', 'upper_band', 'lower_band']\n",
    "df['target'] = np.where(df['close'].shift(-1) > df['close'], 1, 0)  # 1 = Price Up, 0 = Price Down\n",
    "\n",
    "X = df[features]\n",
    "y = df['target']\n"
   ]
  },
  {
   "cell_type": "code",
   "execution_count": 28,
   "metadata": {},
   "outputs": [],
   "source": [
    "from sklearn.model_selection import train_test_split\n",
    "\n",
    "X_train, X_test, y_train, y_test = train_test_split(X, y, test_size=0.2, random_state=42)\n"
   ]
  },
  {
   "cell_type": "code",
   "execution_count": 29,
   "metadata": {},
   "outputs": [],
   "source": [
    "from sklearn.preprocessing import StandardScaler\n",
    "\n",
    "scaler = StandardScaler()\n",
    "X_train = scaler.fit_transform(X_train)\n",
    "X_test = scaler.transform(X_test)\n"
   ]
  },
  {
   "cell_type": "code",
   "execution_count": null,
   "metadata": {},
   "outputs": [],
   "source": []
  },
  {
   "cell_type": "code",
   "execution_count": 27,
   "metadata": {},
   "outputs": [],
   "source": [
    "import sklearn"
   ]
  },
  {
   "cell_type": "code",
   "execution_count": 30,
   "metadata": {},
   "outputs": [],
   "source": [
    "import xgboost as xgb\n",
    "from sklearn.metrics import accuracy_score, classification_report\n"
   ]
  },
  {
   "cell_type": "code",
   "execution_count": 31,
   "metadata": {},
   "outputs": [],
   "source": [
    "dtrain = xgb.DMatrix(X_train, label=y_train)\n",
    "dtest = xgb.DMatrix(X_test, label=y_test)\n"
   ]
  },
  {
   "cell_type": "code",
   "execution_count": 32,
   "metadata": {},
   "outputs": [
    {
     "name": "stderr",
     "output_type": "stream",
     "text": [
      "c:\\Users\\surya\\AppData\\Local\\Programs\\Python\\Python313\\Lib\\site-packages\\xgboost\\core.py:158: UserWarning: [21:37:44] WARNING: C:\\buildkite-agent\\builds\\buildkite-windows-cpu-autoscaling-group-i-08cbc0333d8d4aae1-1\\xgboost\\xgboost-ci-windows\\src\\learner.cc:740: \n",
      "Parameters: { \"n_estimators\" } are not used.\n",
      "\n",
      "  warnings.warn(smsg, UserWarning)\n"
     ]
    }
   ],
   "source": [
    "params = {\n",
    "    'objective': 'binary:logistic',  # Binary Classification\n",
    "    'eval_metric': 'logloss',  # Loss Function\n",
    "    'max_depth': 5,  # Tree Depth\n",
    "    'learning_rate': 0.05,  # How fast model learns\n",
    "    'n_estimators': 200  # Number of trees\n",
    "}\n",
    "\n",
    "model = xgb.train(params, dtrain, num_boost_round=100)\n"
   ]
  },
  {
   "cell_type": "code",
   "execution_count": 34,
   "metadata": {},
   "outputs": [],
   "source": [
    "df['volatility'] = df['close'].rolling(10).std()  # Price Volatility\n",
    "df['momentum'] = df['close'] - df['close'].shift(5)  # Momentum Indicator\n",
    "df['roc'] = (df['close'] - df['close'].shift(10)) / df['close'].shift(10) * 100  # Rate of Change\n"
   ]
  },
  {
   "cell_type": "code",
   "execution_count": 35,
   "metadata": {},
   "outputs": [
    {
     "name": "stdout",
     "output_type": "stream",
     "text": [
      "Fitting 5 folds for each of 243 candidates, totalling 1215 fits\n",
      "Best Parameters: {'colsample_bytree': 0.8, 'learning_rate': 0.1, 'max_depth': 3, 'n_estimators': 200, 'subsample': 0.7}\n"
     ]
    }
   ],
   "source": [
    "from sklearn.model_selection import GridSearchCV\n",
    "import xgboost as xgb\n",
    "\n",
    "# Define Hyperparameters Grid\n",
    "params_grid = {\n",
    "    'max_depth': [3, 5, 7],  \n",
    "    'learning_rate': [0.01, 0.05, 0.1],  \n",
    "    'n_estimators': [100, 200, 300],  \n",
    "    'subsample': [0.7, 0.8, 0.9],  \n",
    "    'colsample_bytree': [0.7, 0.8, 0.9]  \n",
    "}\n",
    "\n",
    "xgb_model = xgb.XGBClassifier()\n",
    "\n",
    "grid_search = GridSearchCV(estimator=xgb_model, param_grid=params_grid, scoring='accuracy', cv=5, verbose=1)\n",
    "grid_search.fit(X_train, y_train)\n",
    "\n",
    "# ✅ Best Parameters\n",
    "best_params = grid_search.best_params_\n",
    "print(\"Best Parameters:\", best_params)\n"
   ]
  },
  {
   "cell_type": "code",
   "execution_count": 36,
   "metadata": {},
   "outputs": [
    {
     "name": "stdout",
     "output_type": "stream",
     "text": [
      "🔥 Improved Model Accuracy: 55.33% 🔥\n"
     ]
    }
   ],
   "source": [
    "best_model = xgb.XGBClassifier(**best_params)\n",
    "best_model.fit(X_train, y_train)\n",
    "\n",
    "y_pred = best_model.predict(X_test)\n",
    "\n",
    "accuracy = accuracy_score(y_test, y_pred)\n",
    "print(f\"🔥 Improved Model Accuracy: {accuracy * 100:.2f}% 🔥\")\n"
   ]
  },
  {
   "cell_type": "code",
   "execution_count": 38,
   "metadata": {},
   "outputs": [
    {
     "name": "stdout",
     "output_type": "stream",
     "text": [
      "🔥 After Feature Selection Accuracy: 55.84% 🔥\n"
     ]
    }
   ],
   "source": [
    "from sklearn.feature_selection import SelectKBest, f_classif\n",
    "\n",
    "selector = SelectKBest(score_func=f_classif, k=5)  # Select Top 5 Features\n",
    "X_train_new = selector.fit_transform(X_train, y_train)\n",
    "X_test_new = selector.transform(X_test)\n",
    "\n",
    "# ✅ Train XGBoost Again\n",
    "best_model.fit(X_train_new, y_train)\n",
    "y_pred_new = best_model.predict(X_test_new)\n",
    "\n",
    "accuracy_new = accuracy_score(y_test, y_pred_new)\n",
    "print(f\"🔥 After Feature Selection Accuracy: {accuracy_new * 100:.2f}% 🔥\")\n"
   ]
  },
  {
   "cell_type": "code",
   "execution_count": 39,
   "metadata": {},
   "outputs": [],
   "source": [
    "# ✅ Volatility Indicators\n",
    "df['volatility'] = df['close'].rolling(10).std()  \n",
    "\n",
    "# ✅ Momentum Indicators\n",
    "df['momentum'] = df['close'] - df['close'].shift(5)  \n",
    "df['roc'] = (df['close'] - df['close'].shift(10)) / df['close'].shift(10) * 100  \n",
    "\n",
    "# ✅ Trend Indicators\n",
    "df['sma_50'] = df['close'].rolling(50).mean()  # Long-term trend\n",
    "df['ema_50'] = df['close'].ewm(span=50, adjust=False).mean()\n",
    "\n",
    "# ✅ MACD Signal Difference\n",
    "df['macd_diff'] = df['macd'] - df['macd_signal']  \n"
   ]
  },
  {
   "cell_type": "code",
   "execution_count": 40,
   "metadata": {},
   "outputs": [
    {
     "name": "stdout",
     "output_type": "stream",
     "text": [
      "Fitting 5 folds for each of 20 candidates, totalling 100 fits\n",
      "Best Parameters: {'subsample': 0.7, 'n_estimators': 200, 'max_depth': 3, 'learning_rate': 0.1, 'gamma': 0.1, 'colsample_bytree': 0.9}\n"
     ]
    }
   ],
   "source": [
    "from sklearn.model_selection import RandomizedSearchCV\n",
    "import xgboost as xgb\n",
    "\n",
    "# ✅ Define Parameters Grid\n",
    "params_grid = {\n",
    "    'max_depth': [3, 5, 7, 9],\n",
    "    'learning_rate': [0.01, 0.03, 0.05, 0.1],\n",
    "    'n_estimators': [100, 200, 300, 500],\n",
    "    'subsample': [0.7, 0.8, 0.9],\n",
    "    'colsample_bytree': [0.7, 0.8, 0.9],\n",
    "    'gamma': [0, 0.1, 0.2, 0.3]\n",
    "}\n",
    "\n",
    "xgb_model = xgb.XGBClassifier()\n",
    "\n",
    "grid_search = RandomizedSearchCV(estimator=xgb_model, param_distributions=params_grid, n_iter=20, \n",
    "                                 scoring='accuracy', cv=5, verbose=1, n_jobs=-1)\n",
    "grid_search.fit(X_train, y_train)\n",
    "\n",
    "# ✅ Best Parameters\n",
    "best_params = grid_search.best_params_\n",
    "print(\"Best Parameters:\", best_params)\n"
   ]
  },
  {
   "cell_type": "code",
   "execution_count": 42,
   "metadata": {},
   "outputs": [
    {
     "name": "stdout",
     "output_type": "stream",
     "text": [
      "🔥 After Feature Selection Accuracy: 58.38% 🔥\n"
     ]
    },
    {
     "name": "stderr",
     "output_type": "stream",
     "text": [
      "c:\\Users\\surya\\AppData\\Local\\Programs\\Python\\Python313\\Lib\\site-packages\\sklearn\\feature_selection\\_univariate_selection.py:783: UserWarning: k=10 is greater than n_features=7. All the features will be returned.\n",
      "  warnings.warn(\n"
     ]
    }
   ],
   "source": [
    "from sklearn.feature_selection import SelectKBest, f_classif\n",
    "\n",
    "selector = SelectKBest(score_func=f_classif, k=10)  # Top 10 Best Features\n",
    "X_train_new = selector.fit_transform(X_train, y_train)\n",
    "X_test_new = selector.transform(X_test)\n",
    "\n",
    "# ✅ Train XGBoost Again\n",
    "best_model = xgb.XGBClassifier(**best_params)\n",
    "best_model.fit(X_train_new, y_train)\n",
    "y_pred_new = best_model.predict(X_test_new)\n",
    "\n",
    "accuracy_new = accuracy_score(y_test, y_pred_new)\n",
    "print(f\"🔥 After Feature Selection Accuracy: {accuracy_new * 100:.2f}% 🔥\")\n"
   ]
  },
  {
   "cell_type": "code",
   "execution_count": 43,
   "metadata": {},
   "outputs": [
    {
     "name": "stdout",
     "output_type": "stream",
     "text": [
      "🔥 Final Ensemble Model Accuracy: 55.84% 🔥\n"
     ]
    }
   ],
   "source": [
    "from sklearn.ensemble import VotingClassifier\n",
    "from sklearn.ensemble import RandomForestClassifier\n",
    "from sklearn.linear_model import LogisticRegression\n",
    "\n",
    "# ✅ Multiple Models Combine\n",
    "rf = RandomForestClassifier(n_estimators=200)\n",
    "xgb = xgb.XGBClassifier(**best_params)\n",
    "lr = LogisticRegression()\n",
    "\n",
    "ensemble_model = VotingClassifier(estimators=[('xgb', xgb), ('rf', rf), ('lr', lr)], voting='soft')\n",
    "ensemble_model.fit(X_train_new, y_train)\n",
    "\n",
    "# ✅ Predict & Check Accuracy\n",
    "y_pred_ensemble = ensemble_model.predict(X_test_new)\n",
    "accuracy_ensemble = accuracy_score(y_test, y_pred_ensemble)\n",
    "print(f\"🔥 Final Ensemble Model Accuracy: {accuracy_ensemble * 100:.2f}% 🔥\")\n"
   ]
  },
  {
   "cell_type": "code",
   "execution_count": 44,
   "metadata": {},
   "outputs": [
    {
     "name": "stdout",
     "output_type": "stream",
     "text": [
      "🔥 Final Model Accuracy After Data Augmentation: 71.76% 🔥\n"
     ]
    }
   ],
   "source": [
    "df_aug = df.copy()\n",
    "\n",
    "# ✅ Artificially Generate More Data\n",
    "df_aug['close'] = df_aug['close'] * (1 + np.random.normal(0, 0.02, size=len(df_aug)))  \n",
    "df_aug['open'] = df_aug['open'] * (1 + np.random.normal(0, 0.02, size=len(df_aug)))  \n",
    "df_aug['high'] = df_aug['high'] * (1 + np.random.normal(0, 0.02, size=len(df_aug)))  \n",
    "df_aug['low'] = df_aug['low'] * (1 + np.random.normal(0, 0.02, size=len(df_aug)))  \n",
    "\n",
    "df_final = pd.concat([df, df_aug], axis=0)\n",
    "\n",
    "# ✅ Re-Train Model on Bigger Dataset\n",
    "X_train, X_test, y_train, y_test = train_test_split(df_final[features], df_final['target'], test_size=0.2, random_state=42)\n",
    "\n",
    "# ✅ Train XGBoost Again\n",
    "best_model.fit(X_train, y_train)\n",
    "y_pred_final = best_model.predict(X_test)\n",
    "\n",
    "final_accuracy = accuracy_score(y_test, y_pred_final)\n",
    "print(f\"🔥 Final Model Accuracy After Data Augmentation: {final_accuracy * 100:.2f}% 🔥\")\n"
   ]
  },
  {
   "cell_type": "code",
   "execution_count": null,
   "metadata": {},
   "outputs": [],
   "source": [
    "80 to 85"
   ]
  },
  {
   "cell_type": "code",
   "execution_count": 45,
   "metadata": {},
   "outputs": [],
   "source": [
    "# ✅ New Features Add Karna Zaroori Hai!\n",
    "df['volatility'] = df['close'].rolling(10).std()  # Price Volatility\n",
    "df['momentum'] = df['close'] - df['close'].shift(5)  # Momentum Indicator\n",
    "df['roc'] = ((df['close'] - df['close'].shift(10)) / df['close'].shift(10)) * 100  # Rate of Change\n",
    "\n",
    "# ✅ Long-Term Trend Indicators\n",
    "df['sma_50'] = df['close'].rolling(50).mean()  \n",
    "df['ema_50'] = df['close'].ewm(span=50, adjust=False).mean()\n",
    "\n",
    "# ✅ MACD Signal Difference (Trend Strength)\n",
    "df['macd_diff'] = df['macd'] - df['macd_signal']  \n"
   ]
  },
  {
   "cell_type": "code",
   "execution_count": 47,
   "metadata": {},
   "outputs": [
    {
     "name": "stdout",
     "output_type": "stream",
     "text": [
      "🔥 After Feature Selection Accuracy: 89.31% 🔥\n"
     ]
    }
   ],
   "source": [
    "from sklearn.feature_selection import SelectKBest, f_classif\n",
    "import numpy as np\n",
    "import xgboost as xgb\n",
    "from sklearn.metrics import accuracy_score\n",
    "\n",
    "# ✅ Ensure X_train and y_train are numpy arrays\n",
    "X_train = np.array(X_train)\n",
    "X_test = np.array(X_test)\n",
    "y_train = np.array(y_train)\n",
    "y_test = np.array(y_test)\n",
    "\n",
    "# ✅ Select Best 10 Features\n",
    "selector = SelectKBest(score_func=f_classif, k=min(10, X_train.shape[1]))  # Prevents k > features issue\n",
    "X_train_new = selector.fit_transform(X_train, y_train)\n",
    "X_test_new = selector.transform(X_test)\n",
    "\n",
    "# ✅ Train XGBoost Again\n",
    "best_model = xgb.XGBClassifier()\n",
    "best_model.fit(X_train_new, y_train)\n",
    "\n",
    "# ✅ Make Predictions\n",
    "y_pred_new = best_model.predict(X_test_new)\n",
    "\n",
    "# ✅ Calculate Accuracy\n",
    "accuracy_new = accuracy_score(y_test, y_pred_new)\n",
    "print(f\"🔥 After Feature Selection Accuracy: {accuracy_new * 100:.2f}% 🔥\")\n"
   ]
  },
  {
   "cell_type": "code",
   "execution_count": 48,
   "metadata": {},
   "outputs": [
    {
     "name": "stdout",
     "output_type": "stream",
     "text": [
      "Fitting 5 folds for each of 20 candidates, totalling 100 fits\n",
      "Best Parameters: {'subsample': 0.7, 'n_estimators': 500, 'max_depth': 9, 'learning_rate': 0.1, 'gamma': 0.3, 'colsample_bytree': 0.9}\n"
     ]
    }
   ],
   "source": [
    "from sklearn.model_selection import RandomizedSearchCV\n",
    "import xgboost as xgb\n",
    "\n",
    "params_grid = {\n",
    "    'max_depth': [3, 5, 7, 9],\n",
    "    'learning_rate': [0.01, 0.03, 0.05, 0.1],\n",
    "    'n_estimators': [100, 200, 300, 500],\n",
    "    'subsample': [0.7, 0.8, 0.9],\n",
    "    'colsample_bytree': [0.7, 0.8, 0.9],\n",
    "    'gamma': [0, 0.1, 0.2, 0.3]\n",
    "}\n",
    "\n",
    "xgb_model = xgb.XGBClassifier()\n",
    "grid_search = RandomizedSearchCV(xgb_model, param_distributions=params_grid, \n",
    "                                 n_iter=20, scoring='accuracy', cv=5, n_jobs=-1, verbose=1)\n",
    "grid_search.fit(X_train_new, y_train)\n",
    "\n",
    "# ✅ Best Parameters\n",
    "best_params = grid_search.best_params_\n",
    "print(\"Best Parameters:\", best_params)\n"
   ]
  },
  {
   "cell_type": "code",
   "execution_count": 49,
   "metadata": {},
   "outputs": [
    {
     "name": "stdout",
     "output_type": "stream",
     "text": [
      "🔥 Final Ensemble Model Accuracy: 89.31% 🔥\n"
     ]
    },
    {
     "name": "stderr",
     "output_type": "stream",
     "text": [
      "c:\\Users\\surya\\AppData\\Local\\Programs\\Python\\Python313\\Lib\\site-packages\\sklearn\\linear_model\\_logistic.py:465: ConvergenceWarning: lbfgs failed to converge (status=1):\n",
      "STOP: TOTAL NO. OF ITERATIONS REACHED LIMIT.\n",
      "\n",
      "Increase the number of iterations (max_iter) or scale the data as shown in:\n",
      "    https://scikit-learn.org/stable/modules/preprocessing.html\n",
      "Please also refer to the documentation for alternative solver options:\n",
      "    https://scikit-learn.org/stable/modules/linear_model.html#logistic-regression\n",
      "  n_iter_i = _check_optimize_result(\n"
     ]
    }
   ],
   "source": [
    "from sklearn.ensemble import VotingClassifier\n",
    "from sklearn.ensemble import RandomForestClassifier\n",
    "from sklearn.linear_model import LogisticRegression\n",
    "\n",
    "rf = RandomForestClassifier(n_estimators=200)\n",
    "xgb = xgb.XGBClassifier(**best_params)\n",
    "lr = LogisticRegression()\n",
    "\n",
    "ensemble_model = VotingClassifier(estimators=[('xgb', xgb), ('rf', rf), ('lr', lr)], voting='soft')\n",
    "ensemble_model.fit(X_train_new, y_train)\n",
    "\n",
    "# ✅ Predict & Check Accuracy\n",
    "y_pred_ensemble = ensemble_model.predict(X_test_new)\n",
    "accuracy_ensemble = accuracy_score(y_test, y_pred_ensemble)\n",
    "print(f\"🔥 Final Ensemble Model Accuracy: {accuracy_ensemble * 100:.2f}% 🔥\")\n"
   ]
  },
  {
   "cell_type": "code",
   "execution_count": 50,
   "metadata": {},
   "outputs": [
    {
     "name": "stdout",
     "output_type": "stream",
     "text": [
      "🔥 Final Model Accuracy After Data Augmentation: 89.31% 🔥\n"
     ]
    }
   ],
   "source": [
    "import numpy as np\n",
    "\n",
    "df_aug = df.copy()\n",
    "\n",
    "# ✅ Artificially Generate More Data\n",
    "df_aug['close'] = df_aug['close'] * (1 + np.random.normal(0, 0.02, size=len(df_aug)))  \n",
    "df_aug['open'] = df_aug['open'] * (1 + np.random.normal(0, 0.02, size=len(df_aug)))  \n",
    "df_aug['high'] = df_aug['high'] * (1 + np.random.normal(0, 0.02, size=len(df_aug)))  \n",
    "df_aug['low'] = df_aug['low'] * (1 + np.random.normal(0, 0.02, size=len(df_aug)))  \n",
    "\n",
    "df_final = pd.concat([df, df_aug], axis=0)\n",
    "\n",
    "# ✅ Re-Train Model on Bigger Dataset\n",
    "X_train, X_test, y_train, y_test = train_test_split(df_final[features], df_final['target'], test_size=0.2, random_state=42)\n",
    "\n",
    "# ✅ Train XGBoost Again\n",
    "best_model.fit(X_train, y_train)\n",
    "y_pred_final = best_model.predict(X_test)\n",
    "\n",
    "final_accuracy = accuracy_score(y_test, y_pred_final)\n",
    "print(f\"🔥 Final Model Accuracy After Data Augmentation: {final_accuracy * 100:.2f}% 🔥\")\n"
   ]
  },
  {
   "cell_type": "code",
   "execution_count": 51,
   "metadata": {},
   "outputs": [
    {
     "name": "stdout",
     "output_type": "stream",
     "text": [
      "🔥 Cross-Validation Accuracy: 84.07% ± 1.14% 🔥\n"
     ]
    }
   ],
   "source": [
    "from sklearn.model_selection import cross_val_score\n",
    "\n",
    "cv_scores = cross_val_score(best_model, X_train_new, y_train, cv=5, scoring='accuracy')\n",
    "print(f\"🔥 Cross-Validation Accuracy: {np.mean(cv_scores) * 100:.2f}% ± {np.std(cv_scores) * 100:.2f}% 🔥\")\n"
   ]
  },
  {
   "cell_type": "code",
   "execution_count": 52,
   "metadata": {},
   "outputs": [
    {
     "name": "stdout",
     "output_type": "stream",
     "text": [
      "Fitting 3 folds for each of 243 candidates, totalling 729 fits\n",
      "Best Parameters: {'colsample_bytree': 1.0, 'learning_rate': 0.1, 'max_depth': 7, 'n_estimators': 300, 'subsample': 1.0}\n",
      "🔥 Optimized Accuracy: 88.30% 🔥\n"
     ]
    }
   ],
   "source": [
    "from sklearn.model_selection import GridSearchCV\n",
    "import xgboost as xgb\n",
    "\n",
    "# ✅ Define Parameter Grid\n",
    "param_grid = {\n",
    "    'n_estimators': [100, 200, 300],  \n",
    "    'learning_rate': [0.01, 0.05, 0.1],  \n",
    "    'max_depth': [3, 5, 7],  \n",
    "    'subsample': [0.7, 0.8, 1.0],  \n",
    "    'colsample_bytree': [0.7, 0.8, 1.0]  \n",
    "}\n",
    "\n",
    "# ✅ Initialize Model\n",
    "xgb_model = xgb.XGBClassifier()\n",
    "\n",
    "# ✅ Grid Search\n",
    "grid_search = GridSearchCV(xgb_model, param_grid, cv=3, scoring='accuracy', verbose=2, n_jobs=-1)\n",
    "grid_search.fit(X_train_new, y_train)\n",
    "\n",
    "# ✅ Best Parameters & Accuracy\n",
    "print(f\"Best Parameters: {grid_search.best_params_}\")\n",
    "best_model = grid_search.best_estimator_\n",
    "\n",
    "# ✅ Final Accuracy\n",
    "y_pred_final = best_model.predict(X_test_new)\n",
    "final_accuracy = accuracy_score(y_test, y_pred_final)\n",
    "print(f\"🔥 Optimized Accuracy: {final_accuracy * 100:.2f}% 🔥\")\n"
   ]
  },
  {
   "cell_type": "code",
   "execution_count": 53,
   "metadata": {},
   "outputs": [
    {
     "name": "stdout",
     "output_type": "stream",
     "text": [
      "Collecting python-binance\n",
      "  Downloading python_binance-1.0.28-py2.py3-none-any.whl.metadata (13 kB)\n",
      "Collecting requests (from python-binance)\n",
      "  Downloading requests-2.32.3-py3-none-any.whl.metadata (4.6 kB)\n",
      "Requirement already satisfied: six in c:\\users\\surya\\appdata\\roaming\\python\\python313\\site-packages (from python-binance) (1.17.0)\n",
      "Collecting dateparser (from python-binance)\n",
      "  Downloading dateparser-1.2.1-py3-none-any.whl.metadata (29 kB)\n",
      "Collecting aiohttp (from python-binance)\n",
      "  Downloading aiohttp-3.11.13-cp313-cp313-win_amd64.whl.metadata (8.0 kB)\n",
      "Collecting websockets (from python-binance)\n",
      "  Downloading websockets-15.0.1-cp313-cp313-win_amd64.whl.metadata (7.0 kB)\n",
      "Collecting pycryptodome (from python-binance)\n",
      "  Downloading pycryptodome-3.21.0-cp36-abi3-win_amd64.whl.metadata (3.4 kB)\n",
      "Collecting aiohappyeyeballs>=2.3.0 (from aiohttp->python-binance)\n",
      "  Downloading aiohappyeyeballs-2.5.0-py3-none-any.whl.metadata (5.9 kB)\n",
      "Collecting aiosignal>=1.1.2 (from aiohttp->python-binance)\n",
      "  Downloading aiosignal-1.3.2-py2.py3-none-any.whl.metadata (3.8 kB)\n",
      "Collecting attrs>=17.3.0 (from aiohttp->python-binance)\n",
      "  Downloading attrs-25.1.0-py3-none-any.whl.metadata (10 kB)\n",
      "Collecting frozenlist>=1.1.1 (from aiohttp->python-binance)\n",
      "  Downloading frozenlist-1.5.0-cp313-cp313-win_amd64.whl.metadata (14 kB)\n",
      "Collecting multidict<7.0,>=4.5 (from aiohttp->python-binance)\n",
      "  Downloading multidict-6.1.0-cp313-cp313-win_amd64.whl.metadata (5.1 kB)\n",
      "Collecting propcache>=0.2.0 (from aiohttp->python-binance)\n",
      "  Downloading propcache-0.3.0-cp313-cp313-win_amd64.whl.metadata (10 kB)\n",
      "Collecting yarl<2.0,>=1.17.0 (from aiohttp->python-binance)\n",
      "  Downloading yarl-1.18.3-cp313-cp313-win_amd64.whl.metadata (71 kB)\n",
      "Requirement already satisfied: python-dateutil>=2.7.0 in c:\\users\\surya\\appdata\\roaming\\python\\python313\\site-packages (from dateparser->python-binance) (2.9.0.post0)\n",
      "Requirement already satisfied: pytz>=2024.2 in c:\\users\\surya\\appdata\\local\\programs\\python\\python313\\lib\\site-packages (from dateparser->python-binance) (2025.1)\n",
      "Collecting regex!=2019.02.19,!=2021.8.27,>=2015.06.24 (from dateparser->python-binance)\n",
      "  Downloading regex-2024.11.6-cp313-cp313-win_amd64.whl.metadata (41 kB)\n",
      "Collecting tzlocal>=0.2 (from dateparser->python-binance)\n",
      "  Downloading tzlocal-5.3.1-py3-none-any.whl.metadata (7.6 kB)\n",
      "Collecting charset-normalizer<4,>=2 (from requests->python-binance)\n",
      "  Downloading charset_normalizer-3.4.1-cp313-cp313-win_amd64.whl.metadata (36 kB)\n",
      "Collecting idna<4,>=2.5 (from requests->python-binance)\n",
      "  Downloading idna-3.10-py3-none-any.whl.metadata (10 kB)\n",
      "Collecting urllib3<3,>=1.21.1 (from requests->python-binance)\n",
      "  Downloading urllib3-2.3.0-py3-none-any.whl.metadata (6.5 kB)\n",
      "Collecting certifi>=2017.4.17 (from requests->python-binance)\n",
      "  Downloading certifi-2025.1.31-py3-none-any.whl.metadata (2.5 kB)\n",
      "Requirement already satisfied: tzdata in c:\\users\\surya\\appdata\\local\\programs\\python\\python313\\lib\\site-packages (from tzlocal>=0.2->dateparser->python-binance) (2025.1)\n",
      "Downloading python_binance-1.0.28-py2.py3-none-any.whl (130 kB)\n",
      "Downloading aiohttp-3.11.13-cp313-cp313-win_amd64.whl (436 kB)\n",
      "Downloading dateparser-1.2.1-py3-none-any.whl (295 kB)\n",
      "Downloading pycryptodome-3.21.0-cp36-abi3-win_amd64.whl (1.8 MB)\n",
      "   ---------------------------------------- 0.0/1.8 MB ? eta -:--:--\n",
      "   ---------------------------------------- 0.0/1.8 MB ? eta -:--:--\n",
      "   ---------------------------------------- 0.0/1.8 MB ? eta -:--:--\n",
      "   ----- ---------------------------------- 0.3/1.8 MB ? eta -:--:--\n",
      "   ----- ---------------------------------- 0.3/1.8 MB ? eta -:--:--\n",
      "   ----------- ---------------------------- 0.5/1.8 MB 569.9 kB/s eta 0:00:03\n",
      "   ----------- ---------------------------- 0.5/1.8 MB 569.9 kB/s eta 0:00:03\n",
      "   ----------------- ---------------------- 0.8/1.8 MB 573.8 kB/s eta 0:00:02\n",
      "   ----------------- ---------------------- 0.8/1.8 MB 573.8 kB/s eta 0:00:02\n",
      "   ----------------- ---------------------- 0.8/1.8 MB 573.8 kB/s eta 0:00:02\n",
      "   ----------------------- ---------------- 1.0/1.8 MB 544.9 kB/s eta 0:00:02\n",
      "   ---------------------------- ----------- 1.3/1.8 MB 614.7 kB/s eta 0:00:01\n",
      "   ---------------------------------- ----- 1.6/1.8 MB 681.9 kB/s eta 0:00:01\n",
      "   ---------------------------------------- 1.8/1.8 MB 735.0 kB/s eta 0:00:00\n",
      "Downloading requests-2.32.3-py3-none-any.whl (64 kB)\n",
      "Downloading websockets-15.0.1-cp313-cp313-win_amd64.whl (176 kB)\n",
      "Downloading aiohappyeyeballs-2.5.0-py3-none-any.whl (15 kB)\n",
      "Downloading aiosignal-1.3.2-py2.py3-none-any.whl (7.6 kB)\n",
      "Downloading attrs-25.1.0-py3-none-any.whl (63 kB)\n",
      "Downloading certifi-2025.1.31-py3-none-any.whl (166 kB)\n",
      "Downloading charset_normalizer-3.4.1-cp313-cp313-win_amd64.whl (102 kB)\n",
      "Downloading frozenlist-1.5.0-cp313-cp313-win_amd64.whl (51 kB)\n",
      "Downloading idna-3.10-py3-none-any.whl (70 kB)\n",
      "Downloading multidict-6.1.0-cp313-cp313-win_amd64.whl (28 kB)\n",
      "Downloading propcache-0.3.0-cp313-cp313-win_amd64.whl (43 kB)\n",
      "Downloading regex-2024.11.6-cp313-cp313-win_amd64.whl (273 kB)\n",
      "Downloading tzlocal-5.3.1-py3-none-any.whl (18 kB)\n",
      "Downloading urllib3-2.3.0-py3-none-any.whl (128 kB)\n",
      "Downloading yarl-1.18.3-cp313-cp313-win_amd64.whl (315 kB)\n",
      "Installing collected packages: websockets, urllib3, tzlocal, regex, pycryptodome, propcache, multidict, idna, frozenlist, charset-normalizer, certifi, attrs, aiohappyeyeballs, yarl, requests, dateparser, aiosignal, aiohttp, python-binance\n",
      "Successfully installed aiohappyeyeballs-2.5.0 aiohttp-3.11.13 aiosignal-1.3.2 attrs-25.1.0 certifi-2025.1.31 charset-normalizer-3.4.1 dateparser-1.2.1 frozenlist-1.5.0 idna-3.10 multidict-6.1.0 propcache-0.3.0 pycryptodome-3.21.0 python-binance-1.0.28 regex-2024.11.6 requests-2.32.3 tzlocal-5.3.1 urllib3-2.3.0 websockets-15.0.1 yarl-1.18.3\n",
      "Note: you may need to restart the kernel to use updated packages.\n"
     ]
    },
    {
     "name": "stderr",
     "output_type": "stream",
     "text": [
      "\n",
      "[notice] A new release of pip is available: 24.3.1 -> 25.0.1\n",
      "[notice] To update, run: python.exe -m pip install --upgrade pip\n"
     ]
    }
   ],
   "source": [
    "pip install python-binance\n"
   ]
  },
  {
   "cell_type": "code",
   "execution_count": 54,
   "metadata": {},
   "outputs": [
    {
     "name": "stdout",
     "output_type": "stream",
     "text": [
      "🔥 Live BTC Price: $90178\n"
     ]
    }
   ],
   "source": [
    "import requests\n",
    "\n",
    "def get_crypto_price(symbol=\"bitcoin\"):\n",
    "    url = f\"https://api.coingecko.com/api/v3/simple/price?ids={symbol}&vs_currencies=usd\"\n",
    "    response = requests.get(url)\n",
    "    data = response.json()\n",
    "    return data[symbol]['usd']\n",
    "\n",
    "# ✅ Live Bitcoin Price\n",
    "btc_price = get_crypto_price()\n",
    "print(f\"🔥 Live BTC Price: ${btc_price}\")\n"
   ]
  },
  {
   "cell_type": "code",
   "execution_count": 56,
   "metadata": {},
   "outputs": [
    {
     "ename": "AttributeError",
     "evalue": "'NoneType' object has no attribute 'text'",
     "output_type": "error",
     "traceback": [
      "\u001b[31m---------------------------------------------------------------------------\u001b[39m",
      "\u001b[31mAttributeError\u001b[39m                            Traceback (most recent call last)",
      "\u001b[36mCell\u001b[39m\u001b[36m \u001b[39m\u001b[32mIn[56]\u001b[39m\u001b[32m, line 15\u001b[39m\n\u001b[32m     12\u001b[39m     \u001b[38;5;28;01mreturn\u001b[39;00m price\n\u001b[32m     14\u001b[39m \u001b[38;5;66;03m# ✅ Live BTC Price Fetch Karo\u001b[39;00m\n\u001b[32m---> \u001b[39m\u001b[32m15\u001b[39m btc_price = \u001b[43mget_live_price\u001b[49m\u001b[43m(\u001b[49m\u001b[43m)\u001b[49m\n\u001b[32m     16\u001b[39m \u001b[38;5;28mprint\u001b[39m(\u001b[33mf\u001b[39m\u001b[33m\"\u001b[39m\u001b[33m🔥 Live BTC Price: \u001b[39m\u001b[38;5;132;01m{\u001b[39;00mbtc_price\u001b[38;5;132;01m}\u001b[39;00m\u001b[33m\"\u001b[39m)\n",
      "\u001b[36mCell\u001b[39m\u001b[36m \u001b[39m\u001b[32mIn[56]\u001b[39m\u001b[32m, line 11\u001b[39m, in \u001b[36mget_live_price\u001b[39m\u001b[34m()\u001b[39m\n\u001b[32m      8\u001b[39m soup = BeautifulSoup(response.text, \u001b[33m\"\u001b[39m\u001b[33mhtml.parser\u001b[39m\u001b[33m\"\u001b[39m)\n\u001b[32m     10\u001b[39m \u001b[38;5;66;03m# ✅ Price Extract Karo\u001b[39;00m\n\u001b[32m---> \u001b[39m\u001b[32m11\u001b[39m price = \u001b[43msoup\u001b[49m\u001b[43m.\u001b[49m\u001b[43mfind\u001b[49m\u001b[43m(\u001b[49m\u001b[33;43m\"\u001b[39;49m\u001b[33;43mspan\u001b[39;49m\u001b[33;43m\"\u001b[39;49m\u001b[43m,\u001b[49m\u001b[43m \u001b[49m\u001b[43mclass_\u001b[49m\u001b[43m=\u001b[49m\u001b[33;43m\"\u001b[39;49m\u001b[33;43msc-d53c5cd7-0\u001b[39;49m\u001b[33;43m\"\u001b[39;49m\u001b[43m)\u001b[49m\u001b[43m.\u001b[49m\u001b[43mtext\u001b[49m\n\u001b[32m     12\u001b[39m \u001b[38;5;28;01mreturn\u001b[39;00m price\n",
      "\u001b[31mAttributeError\u001b[39m: 'NoneType' object has no attribute 'text'"
     ]
    }
   ],
   "source": [
    "import requests\n",
    "from bs4 import BeautifulSoup\n",
    "\n",
    "def get_live_price():\n",
    "    url = \"https://coinmarketcap.com/currencies/bitcoin/\"\n",
    "    headers = {\"User-Agent\": \"Mozilla/5.0\"}\n",
    "    response = requests.get(url, headers=headers)\n",
    "    soup = BeautifulSoup(response.text, \"html.parser\")\n",
    "\n",
    "    # ✅ Price Extract Karo\n",
    "    price = soup.find(\"span\", class_=\"sc-d53c5cd7-0\").text\n",
    "    return price\n",
    "\n",
    "# ✅ Live BTC Price Fetch Karo\n",
    "btc_price = get_live_price()\n",
    "print(f\"🔥 Live BTC Price: {btc_price}\")\n"
   ]
  },
  {
   "cell_type": "code",
   "execution_count": 57,
   "metadata": {},
   "outputs": [
    {
     "name": "stdout",
     "output_type": "stream",
     "text": [
      "🔥 Live BTC Price: ❌ Price not found! Website structure changed.\n"
     ]
    }
   ],
   "source": [
    "import requests\n",
    "from bs4 import BeautifulSoup\n",
    "\n",
    "def get_live_price():\n",
    "    url = \"https://coinmarketcap.com/currencies/bitcoin/\"\n",
    "    headers = {\"User-Agent\": \"Mozilla/5.0\"}\n",
    "    response = requests.get(url, headers=headers)\n",
    "    soup = BeautifulSoup(response.text, \"html.parser\")\n",
    "\n",
    "    # ✅ Find correct class name for price\n",
    "    price_span = soup.find(\"span\", {\"class\": \"sc-bc83cd3a-0\"})\n",
    "\n",
    "    if price_span:\n",
    "        return price_span.text\n",
    "    else:\n",
    "        return \"❌ Price not found! Website structure changed.\"\n",
    "\n",
    "# ✅ Live BTC Price Fetch Karo\n",
    "btc_price = get_live_price()\n",
    "print(f\"🔥 Live BTC Price: {btc_price}\")\n"
   ]
  },
  {
   "cell_type": "code",
   "execution_count": 58,
   "metadata": {},
   "outputs": [
    {
     "name": "stdout",
     "output_type": "stream",
     "text": [
      "🔥 Live BTC Price: $90190\n"
     ]
    }
   ],
   "source": [
    "import requests\n",
    "\n",
    "def get_crypto_price(symbol=\"bitcoin\"):\n",
    "    url = f\"https://api.coingecko.com/api/v3/simple/price?ids={symbol}&vs_currencies=usd\"\n",
    "    response = requests.get(url)\n",
    "    \n",
    "    if response.status_code == 200:\n",
    "        data = response.json()\n",
    "        return data[symbol]['usd']\n",
    "    else:\n",
    "        return \"❌ Error fetching data\"\n",
    "\n",
    "# ✅ Live Bitcoin Price\n",
    "btc_price = get_crypto_price()\n",
    "print(f\"🔥 Live BTC Price: ${btc_price}\")\n"
   ]
  },
  {
   "cell_type": "code",
   "execution_count": 59,
   "metadata": {},
   "outputs": [],
   "source": [
    "import numpy as np\n",
    "\n",
    "def preprocess_live_data(price):\n",
    "    # ✅ Convert price into model-compatible input\n",
    "    latest_features = np.array([[price]])  # Update this based on actual features\n",
    "    return latest_features\n"
   ]
  },
  {
   "cell_type": "code",
   "execution_count": 61,
   "metadata": {},
   "outputs": [],
   "source": [
    "import pandas as pd\n",
    "import numpy as np\n",
    "\n",
    "# ✅ Simple Moving Average (SMA)\n",
    "def SMA(data, window):\n",
    "    return data.rolling(window=window).mean()\n",
    "\n",
    "# ✅ Exponential Moving Average (EMA)\n",
    "def EMA(data, window):\n",
    "    return data.ewm(span=window, adjust=False).mean()\n",
    "\n",
    "# ✅ Relative Strength Index (RSI)\n",
    "def RSI(data, window=14):\n",
    "    delta = data.diff()\n",
    "    gain = (delta.where(delta > 0, 0)).rolling(window=window).mean()\n",
    "    loss = (-delta.where(delta < 0, 0)).rolling(window=window).mean()\n",
    "    rs = gain / los\n"
   ]
  },
  {
   "cell_type": "code",
   "execution_count": 63,
   "metadata": {},
   "outputs": [],
   "source": [
    "import time  # ✅ Add this at the top\n"
   ]
  },
  {
   "cell_type": "code",
   "execution_count": null,
   "metadata": {},
   "outputs": [
    {
     "name": "stderr",
     "output_type": "stream",
     "text": [
      "c:\\Users\\surya\\AppData\\Local\\Programs\\Python\\Python313\\Lib\\site-packages\\sklearn\\utils\\validation.py:2739: UserWarning: X does not have valid feature names, but StandardScaler was fitted with feature names\n",
      "  warnings.warn(\n"
     ]
    },
    {
     "name": "stdout",
     "output_type": "stream",
     "text": [
      "🚀 Bitcoin Price UP! 🔼 (Price: $88676)\n"
     ]
    },
    {
     "name": "stderr",
     "output_type": "stream",
     "text": [
      "c:\\Users\\surya\\AppData\\Local\\Programs\\Python\\Python313\\Lib\\site-packages\\sklearn\\utils\\validation.py:2739: UserWarning: X does not have valid feature names, but StandardScaler was fitted with feature names\n",
      "  warnings.warn(\n"
     ]
    },
    {
     "name": "stdout",
     "output_type": "stream",
     "text": [
      "🚀 Bitcoin Price UP! 🔼 (Price: $88676)\n"
     ]
    },
    {
     "name": "stderr",
     "output_type": "stream",
     "text": [
      "c:\\Users\\surya\\AppData\\Local\\Programs\\Python\\Python313\\Lib\\site-packages\\sklearn\\utils\\validation.py:2739: UserWarning: X does not have valid feature names, but StandardScaler was fitted with feature names\n",
      "  warnings.warn(\n"
     ]
    },
    {
     "name": "stdout",
     "output_type": "stream",
     "text": [
      "🚀 Bitcoin Price UP! 🔼 (Price: $88523)\n"
     ]
    },
    {
     "name": "stderr",
     "output_type": "stream",
     "text": [
      "c:\\Users\\surya\\AppData\\Local\\Programs\\Python\\Python313\\Lib\\site-packages\\sklearn\\utils\\validation.py:2739: UserWarning: X does not have valid feature names, but StandardScaler was fitted with feature names\n",
      "  warnings.warn(\n"
     ]
    },
    {
     "name": "stdout",
     "output_type": "stream",
     "text": [
      "🚀 Bitcoin Price UP! 🔼 (Price: $88568)\n"
     ]
    },
    {
     "name": "stderr",
     "output_type": "stream",
     "text": [
      "c:\\Users\\surya\\AppData\\Local\\Programs\\Python\\Python313\\Lib\\site-packages\\sklearn\\utils\\validation.py:2739: UserWarning: X does not have valid feature names, but StandardScaler was fitted with feature names\n",
      "  warnings.warn(\n"
     ]
    },
    {
     "name": "stdout",
     "output_type": "stream",
     "text": [
      "🚀 Bitcoin Price UP! 🔼 (Price: $88662)\n"
     ]
    },
    {
     "name": "stderr",
     "output_type": "stream",
     "text": [
      "c:\\Users\\surya\\AppData\\Local\\Programs\\Python\\Python313\\Lib\\site-packages\\sklearn\\utils\\validation.py:2739: UserWarning: X does not have valid feature names, but StandardScaler was fitted with feature names\n",
      "  warnings.warn(\n"
     ]
    },
    {
     "name": "stdout",
     "output_type": "stream",
     "text": [
      "🚀 Bitcoin Price UP! 🔼 (Price: $88662)\n"
     ]
    },
    {
     "name": "stderr",
     "output_type": "stream",
     "text": [
      "c:\\Users\\surya\\AppData\\Local\\Programs\\Python\\Python313\\Lib\\site-packages\\sklearn\\utils\\validation.py:2739: UserWarning: X does not have valid feature names, but StandardScaler was fitted with feature names\n",
      "  warnings.warn(\n"
     ]
    },
    {
     "name": "stdout",
     "output_type": "stream",
     "text": [
      "🚀 Bitcoin Price UP! 🔼 (Price: $88973)\n"
     ]
    },
    {
     "name": "stderr",
     "output_type": "stream",
     "text": [
      "c:\\Users\\surya\\AppData\\Local\\Programs\\Python\\Python313\\Lib\\site-packages\\sklearn\\utils\\validation.py:2739: UserWarning: X does not have valid feature names, but StandardScaler was fitted with feature names\n",
      "  warnings.warn(\n"
     ]
    },
    {
     "name": "stdout",
     "output_type": "stream",
     "text": [
      "🚀 Bitcoin Price UP! 🔼 (Price: $88963)\n"
     ]
    },
    {
     "name": "stderr",
     "output_type": "stream",
     "text": [
      "c:\\Users\\surya\\AppData\\Local\\Programs\\Python\\Python313\\Lib\\site-packages\\sklearn\\utils\\validation.py:2739: UserWarning: X does not have valid feature names, but StandardScaler was fitted with feature names\n",
      "  warnings.warn(\n"
     ]
    },
    {
     "name": "stdout",
     "output_type": "stream",
     "text": [
      "🚀 Bitcoin Price UP! 🔼 (Price: $88924)\n"
     ]
    },
    {
     "name": "stderr",
     "output_type": "stream",
     "text": [
      "c:\\Users\\surya\\AppData\\Local\\Programs\\Python\\Python313\\Lib\\site-packages\\sklearn\\utils\\validation.py:2739: UserWarning: X does not have valid feature names, but StandardScaler was fitted with feature names\n",
      "  warnings.warn(\n"
     ]
    },
    {
     "name": "stdout",
     "output_type": "stream",
     "text": [
      "🚀 Bitcoin Price UP! 🔼 (Price: $88924)\n"
     ]
    },
    {
     "name": "stderr",
     "output_type": "stream",
     "text": [
      "c:\\Users\\surya\\AppData\\Local\\Programs\\Python\\Python313\\Lib\\site-packages\\sklearn\\utils\\validation.py:2739: UserWarning: X does not have valid feature names, but StandardScaler was fitted with feature names\n",
      "  warnings.warn(\n"
     ]
    },
    {
     "name": "stdout",
     "output_type": "stream",
     "text": [
      "🚀 Bitcoin Price UP! 🔼 (Price: $88838)\n"
     ]
    },
    {
     "name": "stderr",
     "output_type": "stream",
     "text": [
      "c:\\Users\\surya\\AppData\\Local\\Programs\\Python\\Python313\\Lib\\site-packages\\sklearn\\utils\\validation.py:2739: UserWarning: X does not have valid feature names, but StandardScaler was fitted with feature names\n",
      "  warnings.warn(\n"
     ]
    },
    {
     "name": "stdout",
     "output_type": "stream",
     "text": [
      "🚀 Bitcoin Price UP! 🔼 (Price: $88764)\n"
     ]
    },
    {
     "name": "stderr",
     "output_type": "stream",
     "text": [
      "c:\\Users\\surya\\AppData\\Local\\Programs\\Python\\Python313\\Lib\\site-packages\\sklearn\\utils\\validation.py:2739: UserWarning: X does not have valid feature names, but StandardScaler was fitted with feature names\n",
      "  warnings.warn(\n"
     ]
    },
    {
     "name": "stdout",
     "output_type": "stream",
     "text": [
      "🚀 Bitcoin Price UP! 🔼 (Price: $88752)\n"
     ]
    },
    {
     "name": "stderr",
     "output_type": "stream",
     "text": [
      "c:\\Users\\surya\\AppData\\Local\\Programs\\Python\\Python313\\Lib\\site-packages\\sklearn\\utils\\validation.py:2739: UserWarning: X does not have valid feature names, but StandardScaler was fitted with feature names\n",
      "  warnings.warn(\n"
     ]
    },
    {
     "name": "stdout",
     "output_type": "stream",
     "text": [
      "🚀 Bitcoin Price UP! 🔼 (Price: $88743)\n"
     ]
    },
    {
     "name": "stderr",
     "output_type": "stream",
     "text": [
      "c:\\Users\\surya\\AppData\\Local\\Programs\\Python\\Python313\\Lib\\site-packages\\sklearn\\utils\\validation.py:2739: UserWarning: X does not have valid feature names, but StandardScaler was fitted with feature names\n",
      "  warnings.warn(\n"
     ]
    },
    {
     "name": "stdout",
     "output_type": "stream",
     "text": [
      "🚀 Bitcoin Price UP! 🔼 (Price: $88743)\n"
     ]
    }
   ],
   "source": [
    "import time\n",
    "import numpy as np\n",
    "from sklearn.preprocessing import StandardScaler\n",
    "\n",
    "# ✅ Function to Compute Live Features\n",
    "def compute_live_features(btc_price, recent_prices):\n",
    "    recent_prices = np.array(recent_prices)\n",
    "    \n",
    "    # ✅ Feature 1: Simple Moving Average (SMA)\n",
    "    sma_10 = np.mean(recent_prices[-10:])\n",
    "\n",
    "    # ✅ Feature 2: Exponential Moving Average (EMA)\n",
    "    ema_10 = np.mean(recent_prices[-10:] * np.linspace(1, 2, 10)) / 10\n",
    "\n",
    "    # ✅ Feature 3: Price Change %\n",
    "    price_change = ((btc_price - recent_prices[-2]) / recent_prices[-2]) * 100 if len(recent_prices) > 1 else 0\n",
    "\n",
    "    # ✅ Feature 4: Volatility (Standard Deviation of last 10 prices)\n",
    "    volatility = np.std(recent_prices[-10:])\n",
    "\n",
    "    # ✅ Feature 5: Min-Max Scaling of Price (Relative to last 50 prices)\n",
    "    min_price = np.min(recent_prices[-50:])\n",
    "    max_price = np.max(recent_prices[-50:])\n",
    "    scaled_price = (btc_price - min_price) / (max_price - min_price) if max_price != min_price else 0\n",
    "\n",
    "    # ✅ Feature 6 & 7: Momentum Indicators (Last Price Differences)\n",
    "    momentum_1 = btc_price - recent_prices[-2] if len(recent_prices) > 1 else 0\n",
    "    momentum_2 = recent_prices[-2] - recent_prices[-3] if len(recent_prices) > 2 else 0\n",
    "\n",
    "    return np.array([sma_10, ema_10, price_change, volatility, scaled_price, momentum_1, momentum_2]).reshape(1, -1)\n",
    "\n",
    "# ✅ Standard Scaler (Use the same from training)\n",
    "scaler = StandardScaler()\n",
    "X_train_scaled = scaler.fit_transform(X_train)  # Use training data\n",
    "best_model.fit(X_train_scaled, y_train)  # Re-train model with scaled data\n",
    "\n",
    "# ✅ Real-time Prediction Loop\n",
    "recent_prices = []\n",
    "\n",
    "while True:\n",
    "    btc_price = get_crypto_price()\n",
    "    recent_prices.append(btc_price)\n",
    "\n",
    "    if len(recent_prices) > 50:\n",
    "        recent_prices.pop(0)  # Keep last 50 prices only\n",
    "\n",
    "    if len(recent_prices) >= 10:\n",
    "        live_features = compute_live_features(btc_price, recent_prices)\n",
    "        \n",
    "        # ✅ Apply same scaling before prediction\n",
    "        live_features_scaled = scaler.transform(live_features)\n",
    "\n",
    "        # ✅ Predict Future Trend (1 = UP, 0 = DOWN)\n",
    "        future_trend = best_model.predict(live_features_scaled)\n",
    "\n",
    "        if future_trend[0] == 1:\n",
    "            print(f\"🚀 Bitcoin Price UP! 🔼 (Price: ${btc_price})\")\n",
    "        else:\n",
    "            print(f\"📉 Bitcoin Price DOWN! 🔽 (Price: ${btc_price})\")\n",
    "\n",
    "    time.sleep(60)  # ✅ 1 min wait\n"
   ]
  },
  {
   "cell_type": "code",
   "execution_count": 7,
   "metadata": {},
   "outputs": [
    {
     "data": {
      "image/png": "[encoded data removed]",
      "text/plain": [
       "<Figure size 1000x500 with 1 Axes>"
      ]
     },
     "metadata": {},
     "output_type": "display_data"
    }
   ],
   "source": [
    "import numpy as np\n",
    "import matplotlib.pyplot as plt\n",
    "\n",
    "# ✅ Sample Data (Replace with Real Data)\n",
    "recent_prices = [88676, 88676, 88523, 88568, 88662, 88662, 88973, 88963, 88924,88838,]\n",
    "\n",
    "# ✅ Extract Features for Visualization\n",
    "prices = np.array(recent_prices)\n",
    "sma_values = [np.mean(prices[max(0, i-10):i]) for i in range(1, len(prices)+1)]\n",
    "ema_values = [np.mean(prices[max(0, i-10):i] * np.linspace(1, 2, min(i, 10))) / min(i, 10) for i in range(1, len(prices)+1)]\n",
    "\n",
    "# ✅ Plot Prices, SMA, and EMA\n",
    "plt.figure(figsize=(10, 5))\n",
    "plt.plot(prices, label=\"BTC Price\", marker='o')\n",
    "plt.plot(sma_values, label=\"SMA (10)\", linestyle='--')\n",
    "plt.plot(ema_values, label=\"EMA (10)\", linestyle='-.')\n",
    "plt.xlabel(\"Time\")\n",
    "plt.ylabel(\"Price\")\n",
    "plt.legend()\n",
    "plt.title(\"Bitcoin Price Trend with SMA & EMA\")\n",
    "plt.grid()\n",
    "plt.show()\n",
    "\n"
   ]
  },
  {
   "cell_type": "code",
   "execution_count": 3,
   "metadata": {},
   "outputs": [],
   "source": [
    "import numpy as np\n",
    "import matplotlib.pyplot as plt\n"
   ]
  },
  {
   "cell_type": "code",
   "execution_count": 11,
   "metadata": {},
   "outputs": [
    {
     "name": "stderr",
     "output_type": "stream",
     "text": [
      "C:\\Users\\surya\\AppData\\Local\\Temp\\ipykernel_13764\\4223599461.py:16: FutureWarning:\n",
      "\n",
      "'T' is deprecated and will be removed in a future version, please use 'min' instead.\n",
      "\n"
     ]
    },
    {
     "name": "stdout",
     "output_type": "stream",
     "text": [
      "✅ Chart saved as 'btc_chart.html'. Open it in your browser.\n"
     ]
    }
   ],
   "source": [
    "import numpy as np\n",
    "import pandas as pd\n",
    "import plotly.graph_objects as go\n",
    "from plotly.subplots import make_subplots\n",
    "\n",
    "# ✅ Check if `recent_prices` is available\n",
    "try:\n",
    "    prices = np.array(recent_prices)\n",
    "except NameError:\n",
    "    print(\"Error: `recent_prices` not found! Run the real-time script first.\")\n",
    "    prices = np.array([])\n",
    "\n",
    "if prices.size > 0:\n",
    "    # ✅ Create DataFrame for Time-Series Analysis\n",
    "    df = pd.DataFrame({'Price': prices})\n",
    "    df['Time'] = pd.date_range(start='2025-03-06', periods=len(prices), freq='T')  # 1-min intervals\n",
    "\n",
    "    # ✅ Compute SMA (10) & EMA (10)\n",
    "    df['SMA_10'] = df['Price'].rolling(window=10).mean()\n",
    "    df['EMA_10'] = df['Price'].ewm(span=10, adjust=False).mean()\n",
    "\n",
    "    # ✅ Create Candlestick Chart with SMA & EMA\n",
    "    fig = make_subplots(rows=1, cols=1)\n",
    "\n",
    "    fig.add_trace(go.Scatter(x=df['Time'], y=df['Price'], mode='lines', name=\"BTC Price\", line=dict(color='black')))\n",
    "    fig.add_trace(go.Scatter(x=df['Time'], y=df['SMA_10'], mode='lines', name=\"SMA (10)\", line=dict(color='blue')))\n",
    "    fig.add_trace(go.Scatter(x=df['Time'], y=df['EMA_10'], mode='lines', name=\"EMA (10)\", line=dict(color='red')))\n",
    "\n",
    "    # ✅ Chart Settings\n",
    "    fig.update_layout(\n",
    "        title=\"Bitcoin Price with SMA & EMA\",\n",
    "        xaxis_title=\"Time\",\n",
    "        yaxis_title=\"Price (USD)\",\n",
    "        xaxis_rangeslider_visible=False,\n",
    "        template=\"plotly_dark\"  # Dark theme for better visibility\n",
    "    )\n",
    "\n",
    "    # ✅ Save as HTML (Fixes nbformat issue)\n",
    "    fig.write_html(\"btc_chart.html\")\n",
    "    print(\"✅ Chart saved as 'btc_chart.html'. Open it in your browser.\")\n",
    "\n",
    "else:\n",
    "    print(\"No price data available for visualization.\")\n"
   ]
  },
  {
   "cell_type": "code",
   "execution_count": 12,
   "metadata": {},
   "outputs": [
    {
     "name": "stdout",
     "output_type": "stream",
     "text": [
      "✅ Advanced Chart saved as 'btc_advanced_chart.html'. Open it in your browser.\n"
     ]
    },
    {
     "name": "stderr",
     "output_type": "stream",
     "text": [
      "C:\\Users\\surya\\AppData\\Local\\Temp\\ipykernel_13764\\715016013.py:16: FutureWarning:\n",
      "\n",
      "'T' is deprecated and will be removed in a future version, please use 'min' instead.\n",
      "\n"
     ]
    }
   ],
   "source": [
    "import numpy as np\n",
    "import pandas as pd\n",
    "import plotly.graph_objects as go\n",
    "from plotly.subplots import make_subplots\n",
    "\n",
    "# ✅ Check if `recent_prices` exists\n",
    "try:\n",
    "    prices = np.array(recent_prices)\n",
    "except NameError:\n",
    "    print(\"Error: `recent_prices` not found! Run the real-time script first.\")\n",
    "    prices = np.array([])\n",
    "\n",
    "if prices.size > 0:\n",
    "    # ✅ Create DataFrame for Analysis\n",
    "    df = pd.DataFrame({'Price': prices})\n",
    "    df['Time'] = pd.date_range(start='2025-03-06', periods=len(prices), freq='T')  # 1-min intervals\n",
    "\n",
    "    # ✅ Moving Averages\n",
    "    df['SMA_10'] = df['Price'].rolling(window=10).mean()\n",
    "    df['EMA_10'] = df['Price'].ewm(span=10, adjust=False).mean()\n",
    "\n",
    "    # ✅ Bollinger Bands (Upper & Lower Bound)\n",
    "    df['SMA_20'] = df['Price'].rolling(window=20).mean()\n",
    "    df['STD_20'] = df['Price'].rolling(window=20).std()\n",
    "    df['BB_Upper'] = df['SMA_20'] + (df['STD_20'] * 2)\n",
    "    df['BB_Lower'] = df['SMA_20'] - (df['STD_20'] * 2)\n",
    "\n",
    "    # ✅ MACD (Trend Reversal)\n",
    "    df['EMA_12'] = df['Price'].ewm(span=12, adjust=False).mean()\n",
    "    df['EMA_26'] = df['Price'].ewm(span=26, adjust=False).mean()\n",
    "    df['MACD'] = df['EMA_12'] - df['EMA_26']\n",
    "    df['Signal_Line'] = df['MACD'].ewm(span=9, adjust=False).mean()\n",
    "\n",
    "    # ✅ RSI (Market Strength)\n",
    "    delta = df['Price'].diff(1)\n",
    "    gain = delta.where(delta > 0, 0)\n",
    "    loss = -delta.where(delta < 0, 0)\n",
    "    avg_gain = gain.rolling(window=14).mean()\n",
    "    avg_loss = loss.rolling(window=14).mean()\n",
    "    rs = avg_gain / avg_loss\n",
    "    df['RSI'] = 100 - (100 / (1 + rs))\n",
    "\n",
    "    # ✅ Buy/Sell Signals (Based on RSI & MACD Crossovers)\n",
    "    df['Buy_Signal'] = (df['RSI'] < 30) & (df['MACD'] > df['Signal_Line'])\n",
    "    df['Sell_Signal'] = (df['RSI'] > 70) & (df['MACD'] < df['Signal_Line'])\n",
    "\n",
    "    # ✅ Create Interactive Chart\n",
    "    fig = make_subplots(rows=2, cols=1, shared_xaxes=True, row_heights=[0.7, 0.3])\n",
    "\n",
    "    # 🚀 **Main Price Chart**\n",
    "    fig.add_trace(go.Scatter(x=df['Time'], y=df['Price'], mode='lines', name=\"BTC Price\", line=dict(color='black')), row=1, col=1)\n",
    "    fig.add_trace(go.Scatter(x=df['Time'], y=df['SMA_10'], mode='lines', name=\"SMA (10)\", line=dict(color='blue')), row=1, col=1)\n",
    "    fig.add_trace(go.Scatter(x=df['Time'], y=df['EMA_10'], mode='lines', name=\"EMA (10)\", line=dict(color='red')), row=1, col=1)\n",
    "\n",
    "    # 📌 Bollinger Bands\n",
    "    fig.add_trace(go.Scatter(x=df['Time'], y=df['BB_Upper'], mode='lines', name=\"BB Upper\", line=dict(color='gray', dash='dot')), row=1, col=1)\n",
    "    fig.add_trace(go.Scatter(x=df['Time'], y=df['BB_Lower'], mode='lines', name=\"BB Lower\", line=dict(color='gray', dash='dot')), row=1, col=1)\n",
    "\n",
    "    # 📈 **MACD Indicator**\n",
    "    fig.add_trace(go.Scatter(x=df['Time'], y=df['MACD'], mode='lines', name=\"MACD\", line=dict(color='purple')), row=2, col=1)\n",
    "    fig.add_trace(go.Scatter(x=df['Time'], y=df['Signal_Line'], mode='lines', name=\"Signal Line\", line=dict(color='orange')), row=2, col=1)\n",
    "\n",
    "    # 📊 RSI Indicator (Overbought/Oversold)\n",
    "    fig.add_trace(go.Scatter(x=df['Time'], y=df['RSI'], mode='lines', name=\"RSI\", line=dict(color='green')), row=2, col=1)\n",
    "    fig.add_hline(y=70, line=dict(color='red', dash='dash'), row=2, col=1, annotation_text=\"Overbought (Sell)\")\n",
    "    fig.add_hline(y=30, line=dict(color='blue', dash='dash'), row=2, col=1, annotation_text=\"Oversold (Buy)\")\n",
    "\n",
    "    # ✅ Buy/Sell Markers on Main Price Chart\n",
    "    buy_times = df.loc[df['Buy_Signal'], 'Time']\n",
    "    buy_prices = df.loc[df['Buy_Signal'], 'Price']\n",
    "    fig.add_trace(go.Scatter(x=buy_times, y=buy_prices, mode='markers', name=\"Buy Signal\", marker=dict(color='green', size=10, symbol='triangle-up')), row=1, col=1)\n",
    "\n",
    "    sell_times = df.loc[df['Sell_Signal'], 'Time']\n",
    "    sell_prices = df.loc[df['Sell_Signal'], 'Price']\n",
    "    fig.add_trace(go.Scatter(x=sell_times, y=sell_prices, mode='markers', name=\"Sell Signal\", marker=dict(color='red', size=10, symbol='triangle-down')), row=1, col=1)\n",
    "\n",
    "    # 📊 **Chart Customization**\n",
    "    fig.update_layout(\n",
    "        title=\"📈 Enhanced Bitcoin Analysis with SMA, EMA, MACD, RSI & Bollinger Bands\",\n",
    "        xaxis_title=\"Time\",\n",
    "        yaxis_title=\"Price (USD)\",\n",
    "        template=\"plotly_dark\",\n",
    "        height=800\n",
    "    )\n",
    "\n",
    "    # ✅ Save as HTML (Fixes nbformat issue)\n",
    "    fig.write_html(\"btc_advanced_chart.html\")\n",
    "    print(\"✅ Advanced Chart saved as 'btc_advanced_chart.html'. Open it in your browser.\")\n",
    "\n",
    "else:\n",
    "    print(\"No price data available for visualization.\")\n"
   ]
  },
  {
   "cell_type": "code",
   "execution_count": null,
   "metadata": {},
   "outputs": [
    {
     "name": "stderr",
     "output_type": "stream",
     "text": [
      "C:\\Users\\surya\\AppData\\Local\\Temp\\ipykernel_13764\\1531499264.py:13: FutureWarning:\n",
      "\n",
      "'T' is deprecated and will be removed in a future version, please use 'min' instead.\n",
      "\n"
     ]
    },
    {
     "name": "stdout",
     "output_type": "stream",
     "text": [
      "✅ Advanced Chart saved as 'btc_dynamic_chart.html'. Open it in your browser.\n",
      "📊 Updated Chart at 2025-03-06 03:20:00 with Price: $9999599.45\n",
      "📊 Updated Chart at 2025-03-06 03:21:00 with Price: $9999610.66\n",
      "📊 Updated Chart at 2025-03-06 03:22:00 with Price: $9999632.32\n",
      "📊 Updated Chart at 2025-03-06 03:23:00 with Price: $9999653.40\n",
      "📊 Updated Chart at 2025-03-06 03:24:00 with Price: $9999625.85\n",
      "📊 Updated Chart at 2025-03-06 03:25:00 with Price: $9999607.09\n",
      "📊 Updated Chart at 2025-03-06 03:26:00 with Price: $9999617.39\n",
      "📊 Updated Chart at 2025-03-06 03:27:00 with Price: $9999627.67\n",
      "📊 Updated Chart at 2025-03-06 03:28:00 with Price: $9999637.97\n",
      "📊 Updated Chart at 2025-03-06 03:29:00 with Price: $9999715.02\n",
      "📊 Updated Chart at 2025-03-06 03:30:00 with Price: $9999726.44\n"
     ]
    }
   ],
   "source": [
    "import numpy as np\n",
    "import pandas as pd\n",
    "import plotly.graph_objects as go\n",
    "from plotly.subplots import make_subplots\n",
    "import time\n",
    "\n",
    "# ✅ Simulated Data (Replace with Live Data)\n",
    "np.random.seed(42)\n",
    "btc_prices = np.cumsum(np.random.randn(200) * 50 + 50000)  # Random BTC Prices near $50,000\n",
    "\n",
    "# ✅ Create DataFrame for Analysis\n",
    "df = pd.DataFrame({'Price': btc_prices})\n",
    "df['Time'] = pd.date_range(start='2025-03-06', periods=len(df), freq='T')\n",
    "\n",
    "# ✅ Moving Averages\n",
    "df['SMA_10'] = df['Price'].rolling(window=10).mean()\n",
    "df['EMA_10'] = df['Price'].ewm(span=10, adjust=False).mean()\n",
    "\n",
    "# ✅ Bollinger Bands\n",
    "df['SMA_20'] = df['Price'].rolling(window=20).mean()\n",
    "df['STD_20'] = df['Price'].rolling(window=20).std()\n",
    "df['BB_Upper'] = df['SMA_20'] + (df['STD_20'] * 2)\n",
    "df['BB_Lower'] = df['SMA_20'] - (df['STD_20'] * 2)\n",
    "\n",
    "# ✅ MACD\n",
    "df['EMA_12'] = df['Price'].ewm(span=12, adjust=False).mean()\n",
    "df['EMA_26'] = df['Price'].ewm(span=26, adjust=False).mean()\n",
    "df['MACD'] = df['EMA_12'] - df['EMA_26']\n",
    "df['Signal_Line'] = df['MACD'].ewm(span=9, adjust=False).mean()\n",
    "\n",
    "# ✅ RSI (Relative Strength Index)\n",
    "delta = df['Price'].diff(1)\n",
    "gain = delta.where(delta > 0, 0)\n",
    "loss = -delta.where(delta < 0, 0)\n",
    "avg_gain = gain.rolling(window=14).mean()\n",
    "avg_loss = loss.rolling(window=14).mean()\n",
    "rs = avg_gain / avg_loss\n",
    "df['RSI'] = 100 - (100 / (1 + rs))\n",
    "\n",
    "# ✅ Buy/Sell Signals\n",
    "df['Buy_Signal'] = (df['RSI'] < 30) & (df['MACD'] > df['Signal_Line'])\n",
    "df['Sell_Signal'] = (df['RSI'] > 70) & (df['MACD'] < df['Signal_Line'])\n",
    "\n",
    "# ✅ Create Interactive Chart\n",
    "fig = make_subplots(rows=2, cols=1, shared_xaxes=True, row_heights=[0.7, 0.3])\n",
    "\n",
    "# 🚀 **Main Price Chart**\n",
    "fig.add_trace(go.Scatter(x=df['Time'], y=df['Price'], mode='lines', name=\"BTC Price\", line=dict(color='black')), row=1, col=1)\n",
    "fig.add_trace(go.Scatter(x=df['Time'], y=df['SMA_10'], mode='lines', name=\"SMA (10)\", line=dict(color='blue')), row=1, col=1)\n",
    "fig.add_trace(go.Scatter(x=df['Time'], y=df['EMA_10'], mode='lines', name=\"EMA (10)\", line=dict(color='red')), row=1, col=1)\n",
    "\n",
    "# 📌 Bollinger Bands\n",
    "fig.add_trace(go.Scatter(x=df['Time'], y=df['BB_Upper'], mode='lines', name=\"BB Upper\", line=dict(color='gray', dash='dot')), row=1, col=1)\n",
    "fig.add_trace(go.Scatter(x=df['Time'], y=df['BB_Lower'], mode='lines', name=\"BB Lower\", line=dict(color='gray', dash='dot')), row=1, col=1)\n",
    "\n",
    "# 📈 **MACD Indicator**\n",
    "fig.add_trace(go.Scatter(x=df['Time'], y=df['MACD'], mode='lines', name=\"MACD\", line=dict(color='purple')), row=2, col=1)\n",
    "fig.add_trace(go.Scatter(x=df['Time'], y=df['Signal_Line'], mode='lines', name=\"Signal Line\", line=dict(color='orange')), row=2, col=1)\n",
    "\n",
    "# 📊 RSI Indicator (Overbought/Oversold)\n",
    "fig.add_trace(go.Scatter(x=df['Time'], y=df['RSI'], mode='lines', name=\"RSI\", line=dict(color='green')), row=2, col=1)\n",
    "fig.add_hline(y=70, line=dict(color='red', dash='dash'), row=2, col=1, annotation_text=\"Overbought (Sell)\")\n",
    "fig.add_hline(y=30, line=dict(color='blue', dash='dash'), row=2, col=1, annotation_text=\"Oversold (Buy)\")\n",
    "\n",
    "# ✅ Buy/Sell Markers on Main Price Chart\n",
    "buy_times = df.loc[df['Buy_Signal'], 'Time']\n",
    "buy_prices = df.loc[df['Buy_Signal'], 'Price']\n",
    "fig.add_trace(go.Scatter(x=buy_times, y=buy_prices, mode='markers', name=\"Buy Signal\", marker=dict(color='green', size=10, symbol='triangle-up')), row=1, col=1)\n",
    "\n",
    "sell_times = df.loc[df['Sell_Signal'], 'Time']\n",
    "sell_prices = df.loc[df['Sell_Signal'], 'Price']\n",
    "fig.add_trace(go.Scatter(x=sell_times, y=sell_prices, mode='markers', name=\"Sell Signal\", marker=dict(color='red', size=10, symbol='triangle-down')), row=1, col=1)\n",
    "\n",
    "# 📊 **Chart Customization**\n",
    "fig.update_layout(\n",
    "    title=\"📈 Enhanced Bitcoin Trading Chart with SMA, EMA, MACD, RSI & Bollinger Bands\",\n",
    "    xaxis_title=\"Time\",\n",
    "    yaxis_title=\"Price (USD)\",\n",
    "    template=\"plotly_dark\",\n",
    "    height=800\n",
    ")\n",
    "\n",
    "# ✅ Save as HTML (Fixes nbformat issue)\n",
    "fig.write_html(\"btc_dynamic_chart.html\")\n",
    "print(\"✅ Advanced Chart saved as 'btc_dynamic_chart.html'. Open it in your browser.\")\n",
    "\n",
    "# ✅ Simulated Real-Time Updates (Using pd.concat Instead of append)\n",
    "while True:\n",
    "    # Simulated live update\n",
    "    new_price = df['Price'].iloc[-1] + np.random.randn() * 20  # New price\n",
    "    new_time = df['Time'].iloc[-1] + pd.Timedelta(minutes=1)  # New timestamp\n",
    "\n",
    "    # Create new row as DataFrame\n",
    "    new_row = pd.DataFrame({'Price': [new_price], 'Time': [new_time]})\n",
    "\n",
    "    # Update DataFrame (Using `concat` instead of `append`)\n",
    "    df = pd.concat([df, new_row], ignore_index=True)\n",
    "\n",
    "    # Update Chart\n",
    "    fig.data[0].x = df['Time']\n",
    "    fig.data[0].y = df['Price']\n",
    "\n",
    "    fig.write_html(\"btc_dynamic_chart.html\")  # Update HTML file\n",
    "    print(f\"📊 Updated Chart at {new_time} with Price: ${new_price:.2f}\")\n",
    "\n",
    "    time.sleep(60)  # Update every 60 seconds\n"
   ]
  }
 ],
 "metadata": {
  "kernelspec": {
   "display_name": "Python 3",
   "language": "python",
   "name": "python3"
  },
  "language_info": {
   "codemirror_mode": {
    "name": "ipython",
    "version": 3
   },
   "file_extension": ".py",
   "mimetype": "text/x-python",
   "name": "python",
   "nbconvert_exporter": "python",
   "pygments_lexer": "ipython3",
   "version": "3.13.2"
  }
 },
 "nbformat": 4,
 "nbformat_minor": 2
}
